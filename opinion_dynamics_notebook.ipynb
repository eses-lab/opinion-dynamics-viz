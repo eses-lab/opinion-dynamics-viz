{
 "cells": [
  {
   "cell_type": "markdown",
   "id": "5d2b6520-f725-4d6d-a321-7e52099e3605",
   "metadata": {},
   "source": [
    "# Opinion Dynamics Visualization with GPT-3\n",
    "\n",
    "## Overview\n",
    "This notebook is an interactive interface to develop, visualize, and analyze a model of opinion dynamics, integrated with GPT-3 for generating realistic agent dialogues. The project is structured across multiple Python modules, each responsible for a specific aspect:\n",
    "\n",
    "1. **opinion_dynamics.py**: Contains the core opinion dynamics model implementation, including defining agents and their interactions.\n",
    "2. **opinion_viz.py**: Manages the visualization of opinion landscapes using Matplotlib.\n",
    "3. **gpt_interface.py**: Handles the integration with the GPT-3 API for generating dialogues.\n",
    "4. **analysis.py**: Hosts analysis functions to study opinion convergence, clusters, and the quality of GPT-3 generated texts.\n",
    "\n",
    "## Objective:\n",
    "Explore and visualize how opinions evolve within a population, observing emergent clusters, echoes, and trajectories. The integration of GPT-3 allows us to simulate agent interactions with more realistic and nuanced dialogues.\n",
    "\n",
    "\n",
    "## Approach:\n",
    "- Initialize a population with varying opinions.\n",
    "- Visualize the evolution of opinions over time.\n",
    "- Interact with the simulation through widgets to adjust parameters.\n",
    "- Analyze the resulting opinion dynamics and the contribution of GPT-3.\n",
    "\n",
    "\n",
    "## Structure\n",
    "- **Import Libraries**: Set up the environment with necessary libraries.\n",
    "- **Test Components**: Import and test the components developed in `.py` files.\n",
    "    - `opinion_dynamics.py`: Core opinion dynamics model.\n",
    "    - `opinion_viz.py`: Visualization using Matplotlib.\n",
    "    - `gpt_interface.py`: Integration with the GPT-3 API.\n",
    "    - `analysis.py`: Analysis functions.\n",
    "- **Initialize Model**: Initialize the opinion dynamics model with a population of agents.\n",
    "- **Visualization**: Visualize opinions' evolution and clusters' emergence.\n",
    "- **Analysis**: Analyze the opinion convergence, clusters, polarity, and other metrics over time. Evaluate the complexity and variety of GPT-3 generated texts.\n",
    "\n",
    "## Stuff we hope to have gained on the completion of the project\n",
    "- Develop an understanding of opinion dynamics in a multi-agent system.\n",
    "- Observe the emergence of opinion clusters and echo chambers.\n",
    "- Analyze the role of GPT-3 in generating nuanced perspectives during agent interactions.\n",
    "nt interactions.\n"
   ]
  },
  {
   "cell_type": "code",
   "execution_count": null,
   "id": "84fcaae7-7e8a-4777-ba71-7b6ef7e450dd",
   "metadata": {},
   "outputs": [],
   "source": []
  },
  {
   "cell_type": "markdown",
   "id": "de354405-1410-4714-81a0-2656a5f73a79",
   "metadata": {},
   "source": [
    "## Testing the Agent Class\n",
    "\n",
    "The `Agent` class represents an individual in our simulation. It is defined in the `opinion_dynamics.py` module. Each agent has a unique `id` and a list representing their opinions in various dimensions.\n",
    "\n",
    "### Objective:\n",
    "- To create an instance of the `Agent` class.\n",
    "- To access and manipulate the attributes of the created agent instance to ensure the class is implemented correctly.\n"
   ]
  },
  {
   "cell_type": "code",
   "execution_count": 1,
   "id": "012cae22-2f58-4ccf-980a-8a9db1890139",
   "metadata": {},
   "outputs": [
    {
     "name": "stdout",
     "output_type": "stream",
     "text": [
      "The Agent ID is 1\n",
      "The Agent Opinions are [0.5, 0.8]\n"
     ]
    }
   ],
   "source": [
    "# import agent class from the opinion_dynamics.py class\n",
    "\n",
    "from opinion_dynamics import Agent\n",
    "\n",
    "# then create an instance of the Agent class\n",
    "\n",
    "agent = Agent(1, [0.5, 0.8]) # these (0.5 and 0.8) are just placeholders representing the opinions of an agent on different dimensions. They can be any continuous value between 0 and 1, where 0 represents one extreme of an opinion, and 1 represents the other extreme.\n",
    "\n",
    "# print out the agent's id and opinions\n",
    "\n",
    "print(f\"The Agent ID is {agent.agent_id}\")\n",
    "print(f\"The Agent Opinions are {agent.opinions}\")\n"
   ]
  },
  {
   "cell_type": "code",
   "execution_count": 2,
   "id": "f2d5baf1-95ca-43e9-9e14-df1d9a066eff",
   "metadata": {},
   "outputs": [
    {
     "name": "stdout",
     "output_type": "stream",
     "text": [
      "The updated opinions of the agents are [0.9, 0.2]\n"
     ]
    }
   ],
   "source": [
    "#  test updating agent opinions and printing them again\n",
    "\n",
    "agent.update_opinions([0.9,0.2])\n",
    "\n",
    "# print\n",
    "\n",
    "print(f\"The updated opinions of the agents are {agent.opinions}\")"
   ]
  },
  {
   "cell_type": "code",
   "execution_count": null,
   "id": "3af2e6c5-804b-4bf3-b2fc-894105fd9c1b",
   "metadata": {},
   "outputs": [],
   "source": []
  }
 ],
 "metadata": {
  "kernelspec": {
   "display_name": "Python 3 (ipykernel)",
   "language": "python",
   "name": "python3"
  },
  "language_info": {
   "codemirror_mode": {
    "name": "ipython",
    "version": 3
   },
   "file_extension": ".py",
   "mimetype": "text/x-python",
   "name": "python",
   "nbconvert_exporter": "python",
   "pygments_lexer": "ipython3",
   "version": "3.11.3"
  }
 },
 "nbformat": 4,
 "nbformat_minor": 5
}
