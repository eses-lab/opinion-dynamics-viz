{
 "cells": [
  {
   "cell_type": "markdown",
   "id": "c178f80f-a5ba-4333-a2a0-2121f8a2b9a3",
   "metadata": {},
   "source": [
    "\n",
    "\n",
    "# Testing Notebook for Opinion Dynamics\n",
    "\n",
    "This notebook is dedicated to testing the classes and functions implemented in the Opinion Dynamics project. The purpose of these tests is to validate the correctness of the implementations and ensure that each component behaves as expected before integrating them into the main project.\n",
    "\n",
    "## The entire project is structured across multiple Python modules, each responsible for a specific aspect:\n",
    "\n",
    "1. **opinion_dynamics.py**: Contains the core opinion dynamics model implementation, including defining agents and their interactions.\n",
    "2. **opinion_viz.py**: Manages the visualization of opinion landscapes using Matplotlib.\n",
    "3. **gpt_interface.py**: Handles the integration with the GPT-3 API for generating dialogues.\n",
    "4. **analysis.py**: Hosts analysis functions to study opinion convergence, clusters, and the quality of GPT-3 generated texts.\n",
    "\n",
    "There is also an **opinion_dynamics_notebook** that is the main Jupyter notebook to import modules, initialize populations, visualize opinion evolution, interact with GPT-4, and showcase analyses and insights.\n",
    "\n",
    "## Structure of this Notebook\n",
    "1. **Importing Modules and Classes**\n",
    "   - In this section, we will import all the necessary modules and classes that we will test.\n",
    "   \n",
    "2. **Testing Individual Classes and Methods**\n",
    "   - This section is subdivided into subsections, each dedicated to testing a specific class or function. We will instantiate objects, call methods, and check the outputs.\n",
    "\n",
    "\n",
    "## What we will be testing\n",
    "\n",
    "-  `opinion_dynamics.py`: Core opinion dynamics model.\n",
    "-  `opinion_viz.py`: Visualization using Matplotlib.\n",
    "-  `gpt_interface.py`: Integration with the GPT-3 API.\n",
    "-  `analysis.py`: Analysis functions.\n",
    "\n",
    "## Objective\n",
    "The main objective is to confirm the correctness of the implemented classes and methods related to opinion dynamics and agent interactions. This involves testing the `Agent` and `AgentPopulation` classes, along with any other auxiliary functions developed for this project.\n",
    "\n",
    "## Guidelines\n",
    "- Each class/method will be tested independently to isolate and identify potential issues.\n",
    "- For each test, we will confirm expected outcomes, making it easier to pinpoint any deviations.\n",
    "- Clear and concise comments will be provided to explain the purpose and expected outcome of each test.\n",
    "\n",
    "\n"
   ]
  },
  {
   "cell_type": "code",
   "execution_count": null,
   "id": "f3cae6ee-8a34-488f-9229-fd6f5195cd77",
   "metadata": {},
   "outputs": [],
   "source": []
  },
  {
   "cell_type": "markdown",
   "id": "deef438e-abf2-4c5b-9938-fc2120561d46",
   "metadata": {},
   "source": [
    "## Testing the Agent Class\n",
    "\n",
    "The `Agent` class represents an individual in our simulation. It is defined in the `opinion_dynamics.py` module. Each agent has a unique `id` and a list representing their opinions in various dimensions.\n",
    "\n",
    "### Objective:\n",
    "- To create an instance of the `Agent` class.\n",
    "- To access and manipulate the attributes of the created agent instance to ensure the class is implemented correctly.\n"
   ]
  },
  {
   "cell_type": "code",
   "execution_count": 1,
   "id": "a6e7ec33-a03d-4edf-a096-4c082a18cafa",
   "metadata": {},
   "outputs": [
    {
     "name": "stdout",
     "output_type": "stream",
     "text": [
      "The Agent ID is 1\n",
      "The Agent Opinions are [0.5, 0.8]\n"
     ]
    }
   ],
   "source": [
    "# import agent class from the opinion_dynamics.py class\n",
    "\n",
    "from opinion_dynamics import Agent\n",
    "\n",
    "# then create an instance of the Agent class\n",
    "\n",
    "agent = Agent(1, [0.5, 0.8]) # these (0.5 and 0.8) are just placeholders representing the opinions of an agent on different dimensions. They can be any continuous value between 0 and 1, where 0 represents one extreme of an opinion, and 1 represents the other extreme.\n",
    "\n",
    "# print out the agent's id and opinions\n",
    "\n",
    "print(f\"The Agent ID is {agent.agent_id}\")\n",
    "print(f\"The Agent Opinions are {agent.opinions}\")\n"
   ]
  },
  {
   "cell_type": "code",
   "execution_count": 2,
   "id": "8c0400a0-ed36-47cf-9405-950519ac8d5c",
   "metadata": {},
   "outputs": [
    {
     "name": "stdout",
     "output_type": "stream",
     "text": [
      "The updated opinions of the agents are [0.9, 0.2]\n"
     ]
    }
   ],
   "source": [
    "#  test updating agent opinions and printing them again\n",
    "\n",
    "agent.update_opinions([0.9,0.2])\n",
    "\n",
    "# print\n",
    "\n",
    "print(f\"The updated opinions of the agents are {agent.opinions}\")"
   ]
  },
  {
   "cell_type": "markdown",
   "id": "2e8ff97a-a43e-4a4a-8252-0b846038d9fb",
   "metadata": {},
   "source": [
    "## Testing the AgentPopulation Class\n",
    "\n",
    "The `AgentPopulation` class represents a collection of agents in our simulation. It is defined in the `opinion_dynamics.py` module. This class handles the initialization of a population of agents, each having a unique `id` and a list representing their opinions in various dimensions.\n",
    "\n",
    "### Objective:\n",
    "- To create an instance of the `AgentPopulation` class with a specified number of agents, each having opinions in a specified number of dimensions.\n",
    "- To ensure that each agent in the population is initialized with random opinions in each dimension.\n",
    "- To verify that the initialization of the `AgentPopulation` and the individual `Agent` instances within it are implemented correctly.\n",
    "\n",
    "### Steps:\n",
    "1. Create an instance of `AgentPopulation` with a specified number of agents and opinion dimensions.\n",
    "2. Iterate over each agent in the created population.\n",
    "3. Print the `id` and `opinions` of each agent to verify the correct initialization.\n"
   ]
  },
  {
   "cell_type": "code",
   "execution_count": 3,
   "id": "17a02b80-2d93-4e84-bbe7-5ddd5e58265a",
   "metadata": {},
   "outputs": [
    {
     "name": "stdout",
     "output_type": "stream",
     "text": [
      "Agent ID: 0, Opinions: [0.4174883940275135, 0.6403301581160917, 0.5014720916987995]\n",
      "Agent ID: 1, Opinions: [0.4470486653516924, 0.8371266633779284, 0.6604964448942365]\n",
      "Agent ID: 2, Opinions: [0.35592789350423015, 0.31866397942283675, 0.6766298077436643]\n",
      "Agent ID: 3, Opinions: [0.4488489237301103, 0.164341435120697, 0.8196733186760756]\n",
      "Agent ID: 4, Opinions: [0.08522936901279465, 0.7436173509303564, 0.4077498694011724]\n"
     ]
    }
   ],
   "source": [
    "from opinion_dynamics import AgentPopulation  # Import the AgentPopulation class.\n",
    "\n",
    "# Create a population of 5 agents, each with 3 opinion dimensions.\n",
    "population_instance = AgentPopulation(5, 3)\n",
    "\n",
    "# Print the opinions of all agents in the population.\n",
    "for agent in population_instance.agent_list:\n",
    "    print(f\"Agent ID: {agent.agent_id}, Opinions: {agent.opinions}\")\n"
   ]
  },
  {
   "cell_type": "code",
   "execution_count": null,
   "id": "873b34ab-1694-4178-8ed3-7a6c784fa066",
   "metadata": {},
   "outputs": [],
   "source": []
  }
 ],
 "metadata": {
  "kernelspec": {
   "display_name": "Python 3 (ipykernel)",
   "language": "python",
   "name": "python3"
  },
  "language_info": {
   "codemirror_mode": {
    "name": "ipython",
    "version": 3
   },
   "file_extension": ".py",
   "mimetype": "text/x-python",
   "name": "python",
   "nbconvert_exporter": "python",
   "pygments_lexer": "ipython3",
   "version": "3.11.3"
  }
 },
 "nbformat": 4,
 "nbformat_minor": 5
}
